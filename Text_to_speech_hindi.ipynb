{
 "cells": [
  {
   "cell_type": "code",
   "execution_count": null,
   "id": "9a38d077",
   "metadata": {},
   "outputs": [],
   "source": [
    "import os\n",
    "\n",
    "from gtts import gTTS\n",
    "\n",
    "my_text = input(\" \")\n",
    "\n",
    "language = 'hi'\n",
    "\n",
    "output = gTTS(text=my_text,lang= language,slow =False)\n",
    "\n",
    "output.save(\"output.mp3\")\n",
    "\n",
    "os.system(\"start output.mp3\")"
   ]
  }
 ],
 "metadata": {
  "kernelspec": {
   "display_name": "Python 3",
   "language": "python",
   "name": "python3"
  },
  "language_info": {
   "codemirror_mode": {
    "name": "ipython",
    "version": 3
   },
   "file_extension": ".py",
   "mimetype": "text/x-python",
   "name": "python",
   "nbconvert_exporter": "python",
   "pygments_lexer": "ipython3",
   "version": "3.8.8"
  }
 },
 "nbformat": 4,
 "nbformat_minor": 5
}
